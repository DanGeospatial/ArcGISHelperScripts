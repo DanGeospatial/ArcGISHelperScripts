{
 "cells": [
  {
   "cell_type": "markdown",
   "id": "a33ff0f9",
   "metadata": {},
   "source": [
    "Set Parameters"
   ]
  },
  {
   "cell_type": "code",
   "execution_count": 1,
   "id": "6de34127",
   "metadata": {},
   "outputs": [],
   "source": [
    "# Set Imports\n",
    "import arcpy\n",
    "from arcpy import env\n",
    "from arcpy.sa import *\n",
    "\n",
    "# Set Input Workspace\n",
    "arcpy.env.workspace = r\"L:\\clip\"\n",
    "arcpy.CheckOutExtension(\"Spatial\")\n",
    "\n",
    "#Set Variables\n",
    "rasters = arcpy.ListRasters()\n",
    "SiteArea = r\"L:/SiteEcoregions_Proj.shp\"\n",
    "field = \"VALUE\""
   ]
  },
  {
   "cell_type": "markdown",
   "id": "4a29eeb4",
   "metadata": {},
   "source": [
    "Raster -> Points"
   ]
  },
  {
   "cell_type": "code",
   "execution_count": 2,
   "id": "74d0fc75",
   "metadata": {
    "scrolled": false
   },
   "outputs": [],
   "source": [
    "for raster in rasters:\n",
    "    output_getname = str(raster).replace('.tif_proj.tif_clip.tif', '')\n",
    "    output_setfilename = r\"L:/output_csv/\" + output_getname + \".shp\"\n",
    "    arcpy.RasterToPoint_conversion(raster, output_setfilename, field)"
   ]
  },
  {
   "cell_type": "markdown",
   "id": "04cab9dc",
   "metadata": {},
   "source": [
    "Convert Points To CSV File"
   ]
  },
  {
   "cell_type": "code",
   "execution_count": 3,
   "id": "cb7574b3",
   "metadata": {
    "scrolled": true
   },
   "outputs": [],
   "source": [
    "#Set New Workspace\n",
    "arcpy.env.workspace = r\"L:\\output_csv\"\n",
    "tables = arcpy.ListFeatureClasses(feature_type='Point')\n",
    "\n",
    "for table in tables:\n",
    "    output_getname = str(table).replace('.shp', '') + \".csv\"\n",
    "    output_settableloc = r\"L:/output_csv/\"\n",
    "    arcpy.conversion.TableToTable(table, output_settableloc, output_getname)"
   ]
  },
  {
   "cell_type": "markdown",
   "id": "bb7a02a8",
   "metadata": {},
   "source": [
    "Type Markdown and LaTeX:  𝛼2"
   ]
  }
 ],
 "metadata": {
  "kernelspec": {
   "display_name": "Python 3 (ipykernel)",
   "language": "python",
   "name": "python3"
  },
  "language_info": {
   "codemirror_mode": {
    "name": "ipython",
    "version": 3
   },
   "file_extension": ".py",
   "mimetype": "text/x-python",
   "name": "python",
   "nbconvert_exporter": "python",
   "pygments_lexer": "ipython3",
   "version": "3.9.11"
  }
 },
 "nbformat": 4,
 "nbformat_minor": 5
}
