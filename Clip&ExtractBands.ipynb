{
 "cells": [
  {
   "cell_type": "markdown",
   "id": "a095e7f8",
   "metadata": {},
   "source": [
    "Import & Clip"
   ]
  },
  {
   "cell_type": "code",
   "execution_count": 1,
   "id": "5ed3018f",
   "metadata": {
    "scrolled": false
   },
   "outputs": [],
   "source": [
    "# Set Imports\n",
    "import arcpy\n",
    "\n",
    "# Set input workspace\n",
    "arcpy.env.workspace = r\"I:/clip\"\n",
    "\n",
    "# Parameters\n",
    "rasters = arcpy.ListRasters()\n",
    "ClipArea = r\"I:/ProvincesOfCanada.shp\""
   ]
  },
  {
   "cell_type": "code",
   "execution_count": null,
   "id": "677b6dd5",
   "metadata": {},
   "outputs": [],
   "source": [
    "#Clip Rasters\n",
    "for raster in rasters:\n",
    "    output_getname = str(raster).replace('.tif', '')\n",
    "    output_setfilename = r\"I:/clip/\" + output_getname + \".tif\"\n",
    "    arcpy.management.Clip(raster, \"-2350000.000000 5755100.000000 3020040.000000 8200000.000000\", output_setfilename, ClipArea, \"#\", \"ClippingGeometry\", \"MAINTAIN_EXTENT\")"
   ]
  },
  {
   "cell_type": "markdown",
   "id": "9e169180",
   "metadata": {},
   "source": [
    "Extract Bands"
   ]
  },
  {
   "cell_type": "code",
   "execution_count": 7,
   "id": "1fa35bc8",
   "metadata": {},
   "outputs": [],
   "source": [
    "#Set New Workspace\n",
    "arcpy.env.workspace = r\"I:/clip\"\n",
    "\n",
    "for raster in rasters:\n",
    "    rasterfile = raster\n",
    "    desc = arcpy.Describe(rasterfile)\n",
    "    for band in range (1, desc.bandCount+1):\n",
    "        output_getname = str(rasterfile).replace('.tif', '')\n",
    "        outputRaster = r\"/extent/\" + output_getname + \"rdlayer_\" + str(band) + \".tif\"\n",
    "        temp = arcpy.management.MakeRasterLayer(rasterfile, \"templyr\", \"#\", \"#\", band_index=str(band))\n",
    "        arcpy.CopyRaster_management(temp, outputRaster)"
   ]
  },
  {
   "cell_type": "markdown",
   "id": "98e44b7c",
   "metadata": {},
   "source": []
  },
  {
   "cell_type": "code",
   "execution_count": null,
   "id": "157519c0",
   "metadata": {},
   "outputs": [],
   "source": [
    "#Unfinished\n",
    "#Set New Workspace\n",
    "arcpy.env.workspace = r\"I:/extent\"\n",
    "for raster in rasters:\n",
    "    "
   ]
  }
 ],
 "metadata": {
  "kernelspec": {
   "display_name": "Python 3 (ipykernel)",
   "language": "python",
   "name": "python3"
  },
  "language_info": {
   "codemirror_mode": {
    "name": "ipython",
    "version": 3
   },
   "file_extension": ".py",
   "mimetype": "text/x-python",
   "name": "python",
   "nbconvert_exporter": "python",
   "pygments_lexer": "ipython3",
   "version": "3.9.11"
  }
 },
 "nbformat": 4,
 "nbformat_minor": 5
}
