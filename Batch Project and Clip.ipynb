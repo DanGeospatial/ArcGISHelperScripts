{
 "cells": [
  {
   "cell_type": "markdown",
   "id": "61b8797b",
   "metadata": {},
   "source": [
    "Set Workspace & Parameters"
   ]
  },
  {
   "cell_type": "code",
   "execution_count": 3,
   "id": "c9a8e629",
   "metadata": {
    "scrolled": true
   },
   "outputs": [
    {
     "name": "stdout",
     "output_type": "stream",
     "text": [
      "WGS_1984_EPSG_Canada_Polar_Stereographic\n"
     ]
    }
   ],
   "source": [
    "# Set Imports\n",
    "import arcpy\n",
    "\n",
    "# Set input workspace\n",
    "arcpy.env.workspace = r\"H:\\proj\"\n",
    "\n",
    "# Parameters\n",
    "# Output Projected Coordinate system\n",
    "output_cs = arcpy.SpatialReference(5937)\n",
    "print(output_cs.name)\n",
    "rasters = arcpy.ListRasters()\n",
    "ClipArea = r\"L:/SiteEcoregions_Proj.shp\""
   ]
  },
  {
   "cell_type": "markdown",
   "id": "51447d93",
   "metadata": {},
   "source": [
    "Project & Clip Files"
   ]
  },
  {
   "cell_type": "code",
   "execution_count": 2,
   "id": "16471299",
   "metadata": {
    "scrolled": true
   },
   "outputs": [],
   "source": [
    "#Loop through rasters\n",
    "for raster in rasters:\n",
    "    raster_proj = raster + \"_proj.tif\"\n",
    "    #Project Rasters\n",
    "    arcpy.management.ProjectRaster(raster, raster_proj, output_cs, \"NEAREST\")"
   ]
  },
  {
   "cell_type": "code",
   "execution_count": 4,
   "id": "3a9779cb",
   "metadata": {
    "scrolled": true
   },
   "outputs": [],
   "source": [
    "#Loop through rasters\n",
    "for raster in rasters:\n",
    "    raster_clip = raster + \"_clip.tif\"\n",
    "    #Clip Rasters\n",
    "    arcpy.management.Clip(raster, \"-37472.8607285903 -724891.611553621 230087.729210076 -154866.117505109\", raster_clip, ClipArea, -99999, \"ClippingGeometry\", \"MAINTAIN_EXTENT\")"
   ]
  },
  {
   "cell_type": "markdown",
   "id": "2b5c4f67",
   "metadata": {},
   "source": []
  }
 ],
 "metadata": {
  "kernelspec": {
   "display_name": "Python 3 (ipykernel)",
   "language": "python",
   "name": "python3"
  },
  "language_info": {
   "codemirror_mode": {
    "name": "ipython",
    "version": 3
   },
   "file_extension": ".py",
   "mimetype": "text/x-python",
   "name": "python",
   "nbconvert_exporter": "python",
   "pygments_lexer": "ipython3",
   "version": "3.9.11"
  }
 },
 "nbformat": 4,
 "nbformat_minor": 5
}
